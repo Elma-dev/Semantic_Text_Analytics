{
  "nbformat": 4,
  "nbformat_minor": 0,
  "metadata": {
    "colab": {
      "provenance": [],
      "authorship_tag": "ABX9TyMLO7GSHUODgo1rq8OzubpK",
      "include_colab_link": true
    },
    "kernelspec": {
      "name": "python3",
      "display_name": "Python 3"
    },
    "language_info": {
      "name": "python"
    }
  },
  "cells": [
    {
      "cell_type": "markdown",
      "metadata": {
        "id": "view-in-github",
        "colab_type": "text"
      },
      "source": [
        "<a href=\"https://colab.research.google.com/github/Elma-dev/Semantic_Text_Analytics/blob/main/Semantic_Text_Analytics_API.ipynb\" target=\"_parent\"><img src=\"https://colab.research.google.com/assets/colab-badge.svg\" alt=\"Open In Colab\"/></a>"
      ]
    },
    {
      "cell_type": "markdown",
      "source": [
        "#<center>The Semantic Txt Analytics</center>\n",
        "The Semantic Text Analytics API from Aylien is a popular choice for developers who want to incorporate semantic analysis features into their applications. Here are some key features and capabilities of this API:\n",
        "\n",
        "*Named Entity Recognition (NER): The API can automatically identify and extract entities such as people, organizations, locations, and products from text.\n",
        "\n",
        "Sentiment Analysis: The API can determine the sentiment of text, whether it's positive, negative, or neutral.\n",
        "\n",
        "Summarization: The API can generate a summary of a longer text, which can be useful for creating abstracts or snippets.\n",
        "\n",
        "Concept Extraction: The API can identify and extract concepts from text, such as ideas, topics, or themes.\n",
        "\n",
        "Relation Extraction: The API can identify and extract relationships between entities in text, such as who did what to whom.\n",
        "\n",
        "Custom Models: The API allows users to create custom models for entity recognition and classification, which can be trained on their own data.\n",
        "\n",
        "Multilingual Support: The API supports several languages, including English, French, German, Italian, Spanish, Portuguese, and Chinese."
      ],
      "metadata": {
        "id": "YZW7Le-HO_MO"
      }
    },
    {
      "cell_type": "markdown",
      "source": [
        "#<center>install<center>"
      ],
      "metadata": {
        "id": "ERGuezhbOwty"
      }
    },
    {
      "cell_type": "code",
      "execution_count": 1,
      "metadata": {
        "colab": {
          "base_uri": "https://localhost:8080/"
        },
        "id": "AXa9eAg8McyE",
        "outputId": "a883a127-a801-4f58-9850-8915c7d30062"
      },
      "outputs": [
        {
          "output_type": "stream",
          "name": "stdout",
          "text": [
            "Looking in indexes: https://pypi.org/simple, https://us-python.pkg.dev/colab-wheels/public/simple/\n",
            "Collecting dandelion-eu\n",
            "  Downloading dandelion-eu-0.3.2.tar.gz (5.7 kB)\n",
            "  Preparing metadata (setup.py) ... \u001b[?25l\u001b[?25hdone\n",
            "Requirement already satisfied: requests in /usr/local/lib/python3.10/dist-packages (from dandelion-eu) (2.27.1)\n",
            "Requirement already satisfied: six in /usr/local/lib/python3.10/dist-packages (from dandelion-eu) (1.16.0)\n",
            "Requirement already satisfied: urllib3<1.27,>=1.21.1 in /usr/local/lib/python3.10/dist-packages (from requests->dandelion-eu) (1.26.15)\n",
            "Requirement already satisfied: certifi>=2017.4.17 in /usr/local/lib/python3.10/dist-packages (from requests->dandelion-eu) (2022.12.7)\n",
            "Requirement already satisfied: charset-normalizer~=2.0.0 in /usr/local/lib/python3.10/dist-packages (from requests->dandelion-eu) (2.0.12)\n",
            "Requirement already satisfied: idna<4,>=2.5 in /usr/local/lib/python3.10/dist-packages (from requests->dandelion-eu) (3.4)\n",
            "Building wheels for collected packages: dandelion-eu\n",
            "  Building wheel for dandelion-eu (setup.py) ... \u001b[?25l\u001b[?25hdone\n",
            "  Created wheel for dandelion-eu: filename=dandelion_eu-0.3.2-py3-none-any.whl size=7368 sha256=9dbaf3a967b684ddf905545e56f4cee3edafdd2ef743614e0f417fcbb71e7fd1\n",
            "  Stored in directory: /root/.cache/pip/wheels/46/72/08/9bb5cfad71ed109b7d8cbe9b2ab6ee04405f59f7d2101a021c\n",
            "Successfully built dandelion-eu\n",
            "Installing collected packages: dandelion-eu\n",
            "Successfully installed dandelion-eu-0.3.2\n"
          ]
        }
      ],
      "source": [
        "pip install dandelion-eu"
      ]
    },
    {
      "cell_type": "code",
      "source": [
        "from dandelion import DataTXT\n",
        "datatxt = DataTXT(token='5a7f8b6763f2436aa5868920a2cb62cd')\n",
        "datatxt.nex('the new chat boot of google is better than chat-gpt').annotations"
      ],
      "metadata": {
        "colab": {
          "base_uri": "https://localhost:8080/"
        },
        "id": "wZrMT9DFM2R-",
        "outputId": "a627e166-575e-4ae9-e259-83a4033bf3a1"
      },
      "execution_count": 8,
      "outputs": [
        {
          "output_type": "execute_result",
          "data": {
            "text/plain": [
              "[{'start': 21,\n",
              "  'end': 27,\n",
              "  'spot': 'google',\n",
              "  'confidence': 0.7729,\n",
              "  'id': 1092923,\n",
              "  'title': 'Google',\n",
              "  'uri': 'http://en.wikipedia.org/wiki/Google',\n",
              "  'label': 'Google'},\n",
              " {'start': 43,\n",
              "  'end': 51,\n",
              "  'spot': 'chat-gpt',\n",
              "  'confidence': 0.8822,\n",
              "  'id': 72417803,\n",
              "  'title': 'ChatGPT',\n",
              "  'uri': 'http://en.wikipedia.org/wiki/ChatGPT',\n",
              "  'label': 'ChatGPT'}]"
            ]
          },
          "metadata": {},
          "execution_count": 8
        }
      ]
    },
    {
      "cell_type": "markdown",
      "source": [
        "#<center>Language Identification</center>"
      ],
      "metadata": {
        "id": "yY0R2sMWOoUp"
      }
    },
    {
      "cell_type": "code",
      "source": [
        "datatxt.li(\"bonjour je suis abdeljalil\")"
      ],
      "metadata": {
        "colab": {
          "base_uri": "https://localhost:8080/"
        },
        "id": "o5j0CLR0OM9A",
        "outputId": "e1da4d65-9dce-4f6a-ea3d-44dad42f1dd8"
      },
      "execution_count": 12,
      "outputs": [
        {
          "output_type": "execute_result",
          "data": {
            "text/plain": [
              "{'time': 0,\n",
              " 'detectedLangs': [{'lang': 'fr', 'confidence': 0.5714},\n",
              "  {'lang': 'sl', 'confidence': 0.4286}],\n",
              " 'timestamp': '2023-05-11T19:11:55.710'}"
            ]
          },
          "metadata": {},
          "execution_count": 12
        }
      ]
    },
    {
      "cell_type": "markdown",
      "source": [
        "#<center>Named Entity Extraction</center>\n",
        "dataTXT-NEX is a named entity **extraction & linking API** that performs very well even on **short texts**, on which many other similar services do not. With this API you will be able to automatically tag your texts, **extracting Wikipedia entities** and enriching your data."
      ],
      "metadata": {
        "id": "s3QOoAh7PtEy"
      }
    },
    {
      "cell_type": "code",
      "source": [
        "for i in datatxt.nex(\"al-khawarizmi is Muslim mathematician and astronomer\").annotations:\n",
        "  print(i.uri)"
      ],
      "metadata": {
        "colab": {
          "base_uri": "https://localhost:8080/"
        },
        "id": "uJulVTjlOkav",
        "outputId": "1bf27fcf-3a7c-40f9-b594-c6176ea10067"
      },
      "execution_count": 17,
      "outputs": [
        {
          "output_type": "stream",
          "name": "stdout",
          "text": [
            "http://en.wikipedia.org/wiki/Muhammad_ibn_Musa_al-Khwarizmi\n",
            "http://en.wikipedia.org/wiki/Mathematics_in_the_medieval_Islamic_world\n",
            "http://en.wikipedia.org/wiki/Astronomy_in_the_medieval_Islamic_world\n"
          ]
        }
      ]
    },
    {
      "cell_type": "markdown",
      "source": [
        "## Wikipedia & Dbpedia"
      ],
      "metadata": {
        "id": "sMfT5hLcRtcV"
      }
    },
    {
      "cell_type": "code",
      "source": [
        "for i in datatxt.nex(\"al-khawarizmi is Muslim mathematician and astronomer\",include_lod=True).annotations:\n",
        "  print(i.lod)"
      ],
      "metadata": {
        "colab": {
          "base_uri": "https://localhost:8080/"
        },
        "id": "ideCpeGDPsAp",
        "outputId": "62e1ebf9-4c77-4fb5-9080-c9eaec2f2857"
      },
      "execution_count": 19,
      "outputs": [
        {
          "output_type": "stream",
          "name": "stdout",
          "text": [
            "{'dbpedia': 'http://dbpedia.org/resource/Muhammad_ibn_Musa_al-Khwarizmi', 'wikipedia': 'http://en.wikipedia.org/wiki/Muhammad_ibn_Musa_al-Khwarizmi'}\n",
            "{'dbpedia': 'http://dbpedia.org/resource/Mathematics_in_the_medieval_Islamic_world', 'wikipedia': 'http://en.wikipedia.org/wiki/Mathematics_in_the_medieval_Islamic_world'}\n",
            "{'dbpedia': 'http://dbpedia.org/resource/Astronomy_in_the_medieval_Islamic_world', 'wikipedia': 'http://en.wikipedia.org/wiki/Astronomy_in_the_medieval_Islamic_world'}\n"
          ]
        }
      ]
    }
  ]
}